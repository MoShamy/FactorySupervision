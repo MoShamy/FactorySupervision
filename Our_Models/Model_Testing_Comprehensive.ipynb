{
 "cells": [
  {
   "cell_type": "markdown",
   "id": "f856e291",
   "metadata": {},
   "source": [
    "# Testing Model 1"
   ]
  },
  {
   "cell_type": "code",
   "execution_count": null,
   "id": "258b77bf",
   "metadata": {},
   "outputs": [],
   "source": [
    "from ultralytics import YOLO\n",
    "import cv2\n",
    "import supervision as sv\n",
    "import numpy as np\n",
    "import time\n",
    "import os\n",
    "from IPython.display import display\n",
    "\n",
    "\n",
    "#config\n",
    "\n",
    "model_path = \"./Model1_local/Model1_local.pt\" # Local trained model\n",
    "test_vid_path = \"../Dataset/Video\"  # Path to the test video folder\n",
    "output_path = \"../Results/Model1_local\" # Path to save annotated videos"
   ]
  },
  {
   "cell_type": "markdown",
   "id": "6255f31c",
   "metadata": {},
   "source": [
    "## load model"
   ]
  },
  {
   "cell_type": "code",
   "execution_count": 2,
   "id": "b67c0cb4",
   "metadata": {},
   "outputs": [],
   "source": [
    "model = YOLO(model_path)\n"
   ]
  },
  {
   "cell_type": "markdown",
   "id": "4fc1c359",
   "metadata": {},
   "source": [
    "## Test"
   ]
  },
  {
   "cell_type": "code",
   "execution_count": 3,
   "id": "cd1b9b85",
   "metadata": {},
   "outputs": [
    {
     "name": "stdout",
     "output_type": "stream",
     "text": [
      "Processing video: test_vid_4.mp4\n",
      "Processing video: test_vid_5.mp4\n",
      "Processing video: test_vid_7.mp4\n",
      "Processing video: CVData-Foodproduct.mov\n",
      "Processing video: test_vid_6.mp4\n",
      "Processing video: test_vid_2.mp4\n",
      "Processing video: .DS_Store\n",
      "⚠️ FPS read as 0. Defaulting to 30 FPS.\n",
      "Processing video: test_vid_3.mp4\n"
     ]
    },
    {
     "name": "stderr",
     "output_type": "stream",
     "text": [
      "OpenCV: Couldn't read video stream from file \"Dataset/Video/.DS_Store\"\n"
     ]
    },
    {
     "name": "stdout",
     "output_type": "stream",
     "text": [
      "Processing video: test_vid_1.mp4\n",
      "Processing video: CvData-Boxes.mov\n",
      "Processing video: 3ply Surgical Mask Making & Packing Machine (Overhead Shot).mp4\n",
      "Processing video: test_vid_8.mp4\n"
     ]
    }
   ],
   "source": [
    "for i,vid in enumerate(os.listdir(test_vid_path)):\n",
    "    curr_vid_path = os.path.join(test_vid_path, vid)\n",
    "    output_video_path = os.path.join(output_path, f\"test_vid_{i}.mp4\")\n",
    "\n",
    "    print(f\"Processing video: {vid}\")\n",
    "\n",
    "    cap = cv2.VideoCapture(curr_vid_path)\n",
    "    tracker = sv.ByteTrack()\n",
    "    \n",
    "    width = int(cap.get(cv2.CAP_PROP_FRAME_WIDTH))\n",
    "    height = int(cap.get(cv2.CAP_PROP_FRAME_HEIGHT))\n",
    "    fps = int(cap.get(cv2.CAP_PROP_FPS))\n",
    "    if fps <= 1 or fps > 240:  # sanity check\n",
    "        print(f\"⚠️ FPS read as {fps}. Defaulting to 30 FPS.\")\n",
    "        fps = 30\n",
    "    fps = int(fps)\n",
    "    \n",
    "    out = cv2.VideoWriter(output_video_path, cv2.VideoWriter_fourcc(*'mp4v'), fps, (width, height))\n",
    "    \n",
    "    object_speeds = {}\n",
    "    object_last_positions = {}\n",
    "    object_last_times = {}\n",
    "\n",
    "    while True:\n",
    "        ret, frame = cap.read()\n",
    "        if not ret:\n",
    "            break\n",
    "\n",
    "        results = model(frame, verbose = False)[0]\n",
    "        detections = sv.Detections.from_ultralytics(results)\n",
    "\n",
    "        # Update tracker\n",
    "        detections = tracker.update_with_detections(detections)\n",
    "\n",
    "        current_time = time.time()\n",
    "\n",
    "        for i, (xyxy, track_id) in enumerate(zip(detections.xyxy, detections.tracker_id)):\n",
    "            if track_id is None:\n",
    "                continue\n",
    "\n",
    "            x1, y1, x2, y2 = map(int, xyxy)\n",
    "            cx, cy = (x1 + x2) // 2, (y1 + y2) // 2\n",
    "\n",
    "            # Draw box\n",
    "            label = f\"ID {track_id}\"\n",
    "            cv2.rectangle(frame, (x1, y1), (x2, y2), (0, 255, 0), 2)\n",
    "            cv2.putText(frame, label, (x1, y1 - 10),\n",
    "                        cv2.FONT_HERSHEY_SIMPLEX, 0.5, (0, 255, 255), 1)\n",
    "            out.write(frame)\n",
    "\n",
    "\n",
    "\n",
    "\n",
    "    cap.release()\n",
    "    out.release()\n",
    "    cv2.destroyAllWindows()\n"
   ]
  }
 ],
 "metadata": {
  "kernelspec": {
   "display_name": "tf-venv",
   "language": "python",
   "name": "python3"
  },
  "language_info": {
   "codemirror_mode": {
    "name": "ipython",
    "version": 3
   },
   "file_extension": ".py",
   "mimetype": "text/x-python",
   "name": "python",
   "nbconvert_exporter": "python",
   "pygments_lexer": "ipython3",
   "version": "3.10.13"
  }
 },
 "nbformat": 4,
 "nbformat_minor": 5
}
